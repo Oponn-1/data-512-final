{
  "nbformat": 4,
  "nbformat_minor": 0,
  "metadata": {
    "colab": {
      "name": "Proposal.ipynb",
      "provenance": []
    },
    "kernelspec": {
      "name": "python3",
      "display_name": "Python 3"
    }
  },
  "cells": [
    {
      "cell_type": "markdown",
      "metadata": {
        "id": "M6Tv5H778CqV"
      },
      "source": [
        "The idea of this project is to take a data set of tweets about climate change, and use a variety of exploration and analysis to find evidence of organized manipulation - astroturfing, brigading, bots, etc. \n",
        "\n",
        "#Motivation\n",
        "I have a strong interest in how we interact with information on the internet. It has become clear that various forms of manipulative tactics on social media are very effective and people are not well equipped to identify it. It would be incredibly useful for us to start investigating these dynamics and treating the movement of information on the internet as the essential basis of society that it has become. Ideally from this project I would like to learn some of the trends in account information and tweet content that might indicate astroturfing or similar activity.\n",
        "\n",
        "#Data\n",
        "I am looking at the following dataset of tweets about climate change:\n",
        "\n",
        "[Data](https://dataverse.harvard.edu/dataset.xhtml?persistentId=doi:10.7910/DVN/5QCCUU)\n",
        "\n",
        "The data simply contains tweets which feature certain tags such as #climatechange or #climatehoax. \n",
        "The license is CC0, and is for public use. The terms of service require citation. \n",
        "This data fulfills my purposes because all I really need are identifiable tweets. It offers enough to work with the content of the tweets themselves at the very least.\n",
        "\n",
        "An ethical consideration that comes to mind is the implication of using human generated content to identify intent. There are some analyses that could give strong suggestion of manipulation, for example if a set of exactly matching tweets were posted by accounts that share some trait like a young age. However, it is possible to mischaracterize real user behavior as disingenous organized behavior, and that is somewhat problematic for the notions of justice and beneficence.\n",
        "\n",
        "#Unknowns\n",
        "The main uknown is whether I will use any NLP for the contents of the tweets, which would require finding a suitable library or tool. Besides that, it might require some extra effort to acquire account information tied to the tweets in the dataset - things such as account age are very relevant to my goal. "
      ]
    },
    {
      "cell_type": "markdown",
      "metadata": {
        "id": "dJbVUVpAwNQ_"
      },
      "source": [
        "# Research Questions\n",
        "**Are there features about user accounts (such as account age, posting frequency) that those users can be grouped by effectively, and which would be possibly indicative of inorganic activity?**\n",
        "\n",
        "**Can keywords such as 'hoax', or sentiment analysis identify subsets of tweets whose posters differ in suspicious ways?**\n",
        "\n",
        "**Are there notable differences in the posting activity for posts with indications of climate denial versus others?**\n",
        "\n",
        "# Background / Related Work\n",
        "[Political Astroturfing in South Korea](https://www.researchgate.net/profile/Junghwan_Yang2/publication/317290047_How_to_Manipulate_Social_Media_Analyzing_Political_Astroturfing_Using_Ground_Truth_Data_from_South_Korea/links/59305a9ca6fdcc89e7844440/How-to-Manipulate-Social-Media-Analyzing-Political-Astroturfing-Using-Ground-Truth-Data-from-South-Korea.pdf)\n",
        "\n",
        "[Russian Political Disinformation](https://secondaryinfektion.org/)\n",
        "\n",
        "[Detecting the Use of Multiple Accounts](https://onlinelibrary.wiley.com/doi/abs/10.1002/cpe.4013)\n",
        "\n",
        "The limited work that exists in this area indicates two different kinds of analyses that are used to identify inorganic activity. First, there is the consideration of individual user features, such as account age, which can be useful for identifying bots or perhaps in some cases brigading. Second, when looking for astroturfing, it is necessary to consider trends and patterns in posting activity. Similarities in posting content, activity, frequency, or other such features could indicate coordinated activity. \n",
        "\n",
        "# Methodology\n",
        "\n",
        "**Exploratory Visualizations:** This is a way to quickly see if there might be significant differences among users, and which features might not be useful in differentiating users.\n",
        "\n",
        "**Clustering Algorithms:** Besides the exploratory visualization, this offers a way to substantiate the presence of different groups of users. This can be useful both for identifying groups of users based on features and based on content.\n",
        "\n",
        "**Sentiment Analysis:** We have explored limitations of this kind of thing in class, but it is useful for observing general trends. I would like to use this as another way to group the content of tweets for user clustering purposes.\n",
        "\n"
      ]
    }
  ]
}