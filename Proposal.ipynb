{
  "nbformat": 4,
  "nbformat_minor": 0,
  "metadata": {
    "colab": {
      "name": "Proposal.ipynb",
      "provenance": []
    },
    "kernelspec": {
      "name": "python3",
      "display_name": "Python 3"
    }
  },
  "cells": [
    {
      "cell_type": "markdown",
      "metadata": {
        "id": "M6Tv5H778CqV"
      },
      "source": [
        "The idea of this project is to take a data set of tweets about climate change, and use a variety of exploration and analysis to find evidence of organized manipulation - astroturfing, brigading, bots, etc. \n",
        "\n",
        "#Motivation\n",
        "I have a strong interest in how we interact with information on the internet. It has become clear that various forms of manipulative tactics on social media are very effective and people are not well equipped to identify it. It would be incredibly useful for us to start investigating these dynamics and treating the movement of information on the internet as the essential basis of society that it has become. Ideally from this project I would like to learn some of the trends in account information and tweet content that might indicate astroturfing or similar activity.\n",
        "\n",
        "#Data\n",
        "I am looking at the following dataset of tweets about climate change:\n",
        "\n",
        "[Data](https://dataverse.harvard.edu/dataset.xhtml?persistentId=doi:10.7910/DVN/5QCCUU)\n",
        "\n",
        "The data simply contains tweets which feature certain tags such as #climatechange or #climatehoax. \n",
        "The license is CC0, and is for public use. The terms of service require citation. \n",
        "This data fulfills my purposes because all I really need are identifiable tweets. It offers enough to work with the content of the tweets themselves at the very least.\n",
        "\n",
        "An ethical consideration that comes to mind is the implication of using human generated content to identify intent. There are some analyses that could give strong suggestion of manipulation, for example if a set of exactly matching tweets were posted by accounts that share some trait like a young age. However, it is possible to mischaracterize real user behavior as disingenous organized behavior, and that is somewhat problematic for the notions of justice and beneficence.\n",
        "\n",
        "#Unknowns\n",
        "The main uknown is whether I will use any NLP for the contents of the tweets, which would require finding a suitable library or tool. Besides that, it might require some extra effort to acquire account information tied to the tweets in the dataset - things such as account age are very relevant to my goal. "
      ]
    }
  ]
}